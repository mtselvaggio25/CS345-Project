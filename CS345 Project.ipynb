{
 "cells": [
  {
   "cell_type": "markdown",
   "id": "04ae3927",
   "metadata": {},
   "source": [
    "# CS 345 Project\n",
    "#### _Ben Spencer and Matteo Selvaggio_"
   ]
  },
  {
   "cell_type": "markdown",
   "id": "96cf2f13",
   "metadata": {},
   "source": [
    "#### **Part 0: Importing Data and Libraries**"
   ]
  },
  {
   "cell_type": "code",
   "execution_count": 11,
   "id": "be08e492",
   "metadata": {},
   "outputs": [
    {
     "ename": "MemoryError",
     "evalue": "Unable to allocate 6.47 GiB for an array with shape (3832157, 3) and data type <U151",
     "output_type": "error",
     "traceback": [
      "\u001b[1;31m---------------------------------------------------------------------------\u001b[0m",
      "\u001b[1;31mMemoryError\u001b[0m                               Traceback (most recent call last)",
      "Cell \u001b[1;32mIn[11], line 27\u001b[0m\n\u001b[0;32m     23\u001b[0m \u001b[38;5;28;01mimport\u001b[39;00m \u001b[38;5;21;01mtensorflow\u001b[39;00m \u001b[38;5;28;01mas\u001b[39;00m \u001b[38;5;21;01mtf\u001b[39;00m\n\u001b[0;32m     25\u001b[0m \u001b[38;5;66;03m# import data\u001b[39;00m\n\u001b[0;32m     26\u001b[0m \u001b[38;5;66;03m# the usecols parameter extracts the PuzzleID, FEN, and Game Moves columns only\u001b[39;00m\n\u001b[1;32m---> 27\u001b[0m data \u001b[38;5;241m=\u001b[39m np\u001b[38;5;241m.\u001b[39mloadtxt(\u001b[38;5;124m\"\u001b[39m\u001b[38;5;124mlichess_db_puzzle.csv\u001b[39m\u001b[38;5;124m\"\u001b[39m, delimiter\u001b[38;5;241m=\u001b[39m\u001b[38;5;124m'\u001b[39m\u001b[38;5;124m,\u001b[39m\u001b[38;5;124m'\u001b[39m, dtype\u001b[38;5;241m=\u001b[39m\u001b[38;5;28mstr\u001b[39m, skiprows\u001b[38;5;241m=\u001b[39m\u001b[38;5;241m0\u001b[39m, usecols\u001b[38;5;241m=\u001b[39m(\u001b[38;5;241m0\u001b[39m,\u001b[38;5;241m1\u001b[39m,\u001b[38;5;241m2\u001b[39m))\n\u001b[0;32m     28\u001b[0m data\u001b[38;5;241m.\u001b[39mshape\n",
      "File \u001b[1;32mc:\\Users\\mtsel\\anaconda3\\Lib\\site-packages\\numpy\\lib\\npyio.py:1356\u001b[0m, in \u001b[0;36mloadtxt\u001b[1;34m(fname, dtype, comments, delimiter, converters, skiprows, usecols, unpack, ndmin, encoding, max_rows, quotechar, like)\u001b[0m\n\u001b[0;32m   1353\u001b[0m \u001b[38;5;28;01mif\u001b[39;00m \u001b[38;5;28misinstance\u001b[39m(delimiter, \u001b[38;5;28mbytes\u001b[39m):\n\u001b[0;32m   1354\u001b[0m     delimiter \u001b[38;5;241m=\u001b[39m delimiter\u001b[38;5;241m.\u001b[39mdecode(\u001b[38;5;124m'\u001b[39m\u001b[38;5;124mlatin1\u001b[39m\u001b[38;5;124m'\u001b[39m)\n\u001b[1;32m-> 1356\u001b[0m arr \u001b[38;5;241m=\u001b[39m _read(fname, dtype\u001b[38;5;241m=\u001b[39mdtype, comment\u001b[38;5;241m=\u001b[39mcomment, delimiter\u001b[38;5;241m=\u001b[39mdelimiter,\n\u001b[0;32m   1357\u001b[0m             converters\u001b[38;5;241m=\u001b[39mconverters, skiplines\u001b[38;5;241m=\u001b[39mskiprows, usecols\u001b[38;5;241m=\u001b[39musecols,\n\u001b[0;32m   1358\u001b[0m             unpack\u001b[38;5;241m=\u001b[39munpack, ndmin\u001b[38;5;241m=\u001b[39mndmin, encoding\u001b[38;5;241m=\u001b[39mencoding,\n\u001b[0;32m   1359\u001b[0m             max_rows\u001b[38;5;241m=\u001b[39mmax_rows, quote\u001b[38;5;241m=\u001b[39mquotechar)\n\u001b[0;32m   1361\u001b[0m \u001b[38;5;28;01mreturn\u001b[39;00m arr\n",
      "File \u001b[1;32mc:\\Users\\mtsel\\anaconda3\\Lib\\site-packages\\numpy\\lib\\npyio.py:1037\u001b[0m, in \u001b[0;36m_read\u001b[1;34m(fname, delimiter, comment, quote, imaginary_unit, usecols, skiplines, max_rows, converters, ndmin, unpack, dtype, encoding)\u001b[0m\n\u001b[0;32m   1026\u001b[0m next_arr \u001b[38;5;241m=\u001b[39m _load_from_filelike(\n\u001b[0;32m   1027\u001b[0m     data, delimiter\u001b[38;5;241m=\u001b[39mdelimiter, comment\u001b[38;5;241m=\u001b[39mcomment, quote\u001b[38;5;241m=\u001b[39mquote,\n\u001b[0;32m   1028\u001b[0m     imaginary_unit\u001b[38;5;241m=\u001b[39mimaginary_unit,\n\u001b[1;32m   (...)\u001b[0m\n\u001b[0;32m   1032\u001b[0m     byte_converters\u001b[38;5;241m=\u001b[39mbyte_converters,\n\u001b[0;32m   1033\u001b[0m     c_byte_converters\u001b[38;5;241m=\u001b[39mc_byte_converters)\n\u001b[0;32m   1034\u001b[0m \u001b[38;5;66;03m# Cast here already.  We hope that this is better even for\u001b[39;00m\n\u001b[0;32m   1035\u001b[0m \u001b[38;5;66;03m# large files because the storage is more compact.  It could\u001b[39;00m\n\u001b[0;32m   1036\u001b[0m \u001b[38;5;66;03m# be adapted (in principle the concatenate could cast).\u001b[39;00m\n\u001b[1;32m-> 1037\u001b[0m chunks\u001b[38;5;241m.\u001b[39mappend(next_arr\u001b[38;5;241m.\u001b[39mastype(read_dtype_via_object_chunks))\n\u001b[0;32m   1039\u001b[0m skiprows \u001b[38;5;241m=\u001b[39m \u001b[38;5;241m0\u001b[39m  \u001b[38;5;66;03m# Only have to skip for first chunk\u001b[39;00m\n\u001b[0;32m   1040\u001b[0m \u001b[38;5;28;01mif\u001b[39;00m max_rows \u001b[38;5;241m>\u001b[39m\u001b[38;5;241m=\u001b[39m \u001b[38;5;241m0\u001b[39m:\n",
      "\u001b[1;31mMemoryError\u001b[0m: Unable to allocate 6.47 GiB for an array with shape (3832157, 3) and data type <U151"
     ]
    }
   ],
   "source": [
    "# installing zstandard package to unpack .zst compressed files\n",
    "# %pip install zstandard\n",
    "import zstandard as zstd\n",
    "\n",
    "# installing chess package which contains useful methods for processing chess boards.\n",
    "# %pip install chess\n",
    "import chess\n",
    "\n",
    "# importing numpy and matplotlib\n",
    "import numpy as np\n",
    "import matplotlib.pyplot as plt\n",
    "\n",
    "# importing sklearn methods\n",
    "from sklearn.model_selection import train_test_split\n",
    "from sklearn.ensemble import RandomForestClassifier\n",
    "\n",
    "# importing keras with GPU\n",
    "# If using Anaconda, use the following commands in a local conda terminal:\n",
    "# %pip install --upgrade pip\n",
    "# %conda create -n tf tensorflow\n",
    "# %conda activate tf\n",
    "# %pip install tensorflow[and-cuda]\n",
    "import tensorflow as tf\n",
    "\n",
    "# import data\n",
    "# the usecols parameter extracts the PuzzleID, FEN, and Game Moves columns only\n",
    "X = np.loadtxt(\"lichess_db_puzzle.csv\", delimiter=',', dtype=str, skiprows=0, usecols=(0,1))\n",
    "data.shape"
   ]
  }
 ],
 "metadata": {
  "kernelspec": {
   "display_name": "Python 3 (ipykernel)",
   "language": "python",
   "name": "python3"
  },
  "language_info": {
   "codemirror_mode": {
    "name": "ipython",
    "version": 3
   },
   "file_extension": ".py",
   "mimetype": "text/x-python",
   "name": "python",
   "nbconvert_exporter": "python",
   "pygments_lexer": "ipython3",
   "version": "3.11.4"
  }
 },
 "nbformat": 4,
 "nbformat_minor": 5
}
