{
 "cells": [
  {
   "cell_type": "markdown",
   "id": "04ae3927",
   "metadata": {},
   "source": [
    "# CS 345 Project\n",
    "#### _Ben Spencer and Matteo Selvaggio_"
   ]
  },
  {
   "cell_type": "markdown",
   "id": "96cf2f13",
   "metadata": {},
   "source": [
    "### **Part 0: Introduction, Importing Data, and Libraries**"
   ]
  },
  {
   "cell_type": "markdown",
   "id": "d5ce71b4",
   "metadata": {},
   "source": [
    "##### **Topic Introduction**\n",
    "The topic we selected to explore is classical game theory. Machine learning and AI has a strong history with classical games such as Go and Chess since most classical games have a finite number of continuous moves and can technically be \"solved\" if given enough time and game knowledge. There have been many examples of expectional AI models that have been used to play and study various games, including AlphaGo for Go and Stockfish for chess.\n",
    "\n",
    "To explore this topic, we wanted to find out if a model could be trained simply to determine what the next best move should be in the game of chess. Typically, most models that determine the next best move utilize a variety of different parameters in combination with chess theory to come up with accurate predictions. Our initial goal, however, would be to train a model with only game board data and find out how accurately it could predict what the next best move might be."
   ]
  },
  {
   "cell_type": "markdown",
   "id": "d33f4da7",
   "metadata": {},
   "source": [
    "##### **Data Description**\n",
    "The dataset being used is a dataset from the popular chess website Lichess. The data itself contains a variety of features related to over 3,000,000 chess puzzles that are available to play online. The list of available features are as follows:\n",
    "\n",
    "* *PuzzleId* (The ID number corresponding to the puzzle)\n",
    "* *FEN* (An encoding of the board state at the start of the puzzle)\n",
    "* *Moves* (A list of moves required to solve the puzzle)\n",
    "* *Rating* (Chess ELO rating level of the puzzle) \n",
    "* *RatingDeviation* (The deviation in ELO rating between the two players in the puzzle)\n",
    "* *Popularity* (Average upvotes and downvotes of the puzzle) \n",
    "* *NbPlays* (Number of times the puzzle has been played on Lichess)\n",
    "* *Themes* (A list of tags that describe the characteristics of the game in the puzzle)\n",
    "* *GameUrl* (Link to the Lichess website for the puzzle)\n",
    "* *OpeningTags* (If the puzzle is withing the first 20 moves of the game, describes the opening of the current game)\n",
    "\n",
    "In the case of the model we are trying to train, we had decided to rule out using most of the data columns with the exception of the FEN and Moves columns. From the FEN data, we are able to obtain a value for the current board state which will be used as the X input vector for the model. Conversely, the Moves list will contain the next best move required to solve the puzzle, which will be used as our output or label vector.\n",
    "\n",
    "Finally, since the data contains over 3,000,000 data points, training the model on the entire dataset would be very computational intense. Therefore, we shortened the datasets overall size to the first 30,000 entries to make running and training each model faster."
   ]
  },
  {
   "cell_type": "code",
   "execution_count": 8,
   "id": "be08e492",
   "metadata": {},
   "outputs": [
    {
     "name": "stdout",
     "output_type": "stream",
     "text": [
      "Shape of the features array (X): (30000,)\n",
      "Head of the features array: ['5rk1/2q3pp/4p3/1P1pn3/8/2pp2N1/4QPPP/2B1R1K1 w - - 0 26'\n",
      " '6k1/np4qp/4p3/1p1pNp1Q/1P1P4/P3P1B1/5KPP/2r5 b - - 1 31'\n",
      " 'rn2k1r1/pp2qp2/4bn2/8/7Q/2N1P3/PPP1B2P/R3K1NR w KQq - 1 15'\n",
      " '6k1/5pp1/b1Np3p/2qPp3/Pp2P1QP/8/5PPK/8 b - - 3 32'\n",
      " 'r2q1rk1/p3pp1p/2np1npQ/2p5/1p2P3/3P1B1P/PPP1NPP1/R4RK1 b - - 1 13']\n",
      "\n",
      "Shape of the labels array (Y): (30000,)\n",
      "Head of the labels array: ['e2e5 c7e5 e1e5 d3d2 c1d2 c3d2' 'a7c6 h5e8 g7f8 e8e6'\n",
      " 'c3e4 e7b4 c2c3 b4e4 h4e4 f6e4' 'b4b3 c6e7 g8f8 g4d7'\n",
      " 'c6d4 e2d4 c5d4 e4e5 d6e5 f3a8' 'd8g8 e4f6 h7h8 g3g8'\n",
      " 'e6e7 c3d5 e7f7 d5f6 f7f6 f5f6' 'h5g4 d6e5' 'f6h7 e4e5 f7f5 e5f6'\n",
      " 'f3g5 g3h2 g1h1 h5g3 h1h2 g3e2 h2h1 e2g3']\n"
     ]
    }
   ],
   "source": [
    "# installing zstandard package to unpack .zst compressed files\n",
    "# %pip install zstandard\n",
    "import zstandard as zstd\n",
    "\n",
    "# installing chess package which contains useful methods for processing chess boards.\n",
    "# pip install chess\n",
    "import chess\n",
    "\n",
    "# importing numpy and matplotlib\n",
    "import numpy as np\n",
    "import matplotlib.pyplot as plt\n",
    "\n",
    "# importing sklearn methods\n",
    "from sklearn.model_selection import train_test_split\n",
    "from sklearn.ensemble import RandomForestClassifier\n",
    "from sklearn.model_selection import cross_val_score\n",
    "from sklearn.model_selection import StratifiedKFold\n",
    "\n",
    "# importing keras with GPU\n",
    "# If using Anaconda, use the following commands in a local conda terminal:\n",
    "# %pip install --upgrade pip\n",
    "# %conda create -n tf tensorflow\n",
    "# %conda activate tf\n",
    "# %pip install tensorflow[and-cuda]\n",
    "import tensorflow as tf\n",
    "\n",
    "# import data\n",
    "# the usecols parameter extracts the PuzzleID, FEN, and Game Moves columns only\n",
    "# the skiprows parameter only receives the last 10,000 entries\n",
    "fen_data = np.loadtxt(\"lichess_db_puzzle.csv\", delimiter=',', dtype=str, skiprows=3802157, usecols=(1))\n",
    "move_list = np.loadtxt(\"lichess_db_puzzle.csv\", delimiter=',', dtype=str, skiprows=3802157, usecols=(2))\n",
    "print(f'Shape of the features array (X): {fen_data.shape}')\n",
    "print(f'Head of the features array: {fen_data[:5]}\\n')\n",
    "print(f'Shape of the labels array (Y): {move_list.shape}')\n",
    "print(f'Head of the labels array: {move_list[:10]}')\n"
   ]
  },
  {
   "cell_type": "markdown",
   "id": "10da4966",
   "metadata": {},
   "source": [
    "#### **Part 1: Organizing the Data**"
   ]
  },
  {
   "cell_type": "code",
   "execution_count": 9,
   "id": "e5414eed",
   "metadata": {},
   "outputs": [],
   "source": [
    "'''\n",
    "Contains some example code that will be helpful for organizing data.\n",
    "\n",
    "board_matrix = []\n",
    "\n",
    "for i in range(10000):\n",
    "    board_matrix.append(str(chess.Board(fen_data[i,1])))\n",
    "\n",
    "label = []\n",
    "\n",
    "for i in range(10000):\n",
    "    label.append(move_list[i][2:4])\n",
    "\n",
    "print(label[:5])\n",
    "'''\n",
    "data_size = len(move_list)\n",
    "board_size = 64\n",
    "\n",
    "def convert_board_to_str(fen):\n",
    "    rtn = str(chess.Board(fen))\n",
    "    return rtn\n",
    "\n",
    "'''\n",
    "The following function converts characters in the board position to vectors of size 12 to indicate what kind of\n",
    "piece is in that space. Here is the template:\n",
    "\n",
    "No piece:               [0, 0, 0, 0, 0, 0, 0, 0, 0, 0, 0, 0]\n",
    "\n",
    "Black Pawn (p):         [1, 0, 0, 0, 0, 0, 0, 0, 0, 0, 0, 0]\n",
    "Black Knight (n):       [0, 1, 0, 0, 0, 0, 0, 0, 0, 0, 0, 0]\n",
    "Black Bishop (b):       [0, 0, 1, 0, 0, 0, 0, 0, 0, 0, 0, 0]\n",
    "Black Rook (r):         [0, 0, 0, 1, 0, 0, 0, 0, 0, 0, 0, 0]\n",
    "Black Queen (q):        [0, 0, 0, 0, 1, 0, 0, 0, 0, 0, 0, 0]\n",
    "Black King (k):         [0, 0, 0, 0, 0, 1, 0, 0, 0, 0, 0, 0]\n",
    "\n",
    "White Pawn (P):         [0, 0, 0, 0, 0, 0, 1, 0, 0, 0, 0, 0]\n",
    "White Knight (N):       [0, 0, 0, 0, 0, 0, 0, 1, 0, 0, 0, 0]\n",
    "White Bishop (B):       [0, 0, 0, 0, 0, 0, 0, 0, 1, 0, 0, 0]\n",
    "White Rook (R):         [0, 0, 0, 0, 0, 0, 0, 0, 0, 1, 0, 0]\n",
    "White Queen (Q):        [0, 0, 0, 0, 0, 0, 0, 0, 0, 0, 1, 0]\n",
    "White King (K):         [0, 0, 0, 0, 0, 0, 0, 0, 0, 0, 0, 1]\n",
    "'''\n",
    "def convert_str_to_vector(board_data):\n",
    "    rtn = []\n",
    "\n",
    "    for i in range(len(board_data)):\n",
    "        x = board_data[i]\n",
    "\n",
    "        if x == ' ' or x == '\\n':\n",
    "            continue\n",
    "        elif x == '.':\n",
    "            rtn.append([0, 0, 0, 0, 0, 0, 0, 0, 0, 0, 0, 0])\n",
    "        elif x == 'p':\n",
    "            rtn.append([1, 0, 0, 0, 0, 0, 0, 0, 0, 0, 0, 0])\n",
    "        elif x == 'n':\n",
    "            rtn.append([0, 1, 0, 0, 0, 0, 0, 0, 0, 0, 0, 0])\n",
    "        elif x == 'b':\n",
    "            rtn.append([0, 0, 1, 0, 0, 0, 0, 0, 0, 0, 0, 0])\n",
    "        elif x == 'r':\n",
    "            rtn.append([0, 0, 0, 1, 0, 0, 0, 0, 0, 0, 0, 0])\n",
    "        elif x == 'q':\n",
    "            rtn.append([0, 0, 0, 0, 1, 0, 0, 0, 0, 0, 0, 0])\n",
    "        elif x == 'k':\n",
    "            rtn.append([0, 0, 0, 0, 0, 1, 0, 0, 0, 0, 0, 0])\n",
    "        elif x == 'P':\n",
    "            rtn.append([0, 0, 0, 0, 0, 0, 1, 0, 0, 0, 0, 0])\n",
    "        elif x == 'N':\n",
    "            rtn.append([0, 0, 0, 0, 0, 0, 0, 1, 0, 0, 0, 0])\n",
    "        elif x == 'B':\n",
    "            rtn.append([0, 0, 0, 0, 0, 0, 0, 0, 1, 0, 0, 0])\n",
    "        elif x == 'R':\n",
    "            rtn.append([0, 0, 0, 0, 0, 0, 0, 0, 0, 1, 0, 0])\n",
    "        elif x == 'Q':\n",
    "            rtn.append([0, 0, 0, 0, 0, 0, 0, 0, 0, 0, 1, 0])\n",
    "        elif x == 'K':\n",
    "            rtn.append([0, 0, 0, 0, 0, 0, 0, 0, 0, 0, 0, 1])\n",
    "        else:\n",
    "            # For debugging\n",
    "            print(f'ERROR: Board Contains Unnaccepted Character: {board_data[i]}')\n",
    "            break\n",
    "\n",
    "    return rtn\n",
    "\n",
    "'''\n",
    "The following functions will convert the position of a piece in chess (i.e., a4) to a \n",
    "numerical value to be used by a classifier.\n",
    "\n",
    "A rank is considered a horizontal row and a file is a vertical column. Values for each\n",
    "square are numbered in order from left to right, top to bottom, numbered 0-63.\n",
    "\n",
    "For example, the space a1 would be assigned the value '0' and the space h8 would be \n",
    "assigned the value '63'.\n",
    "'''\n",
    "def rank(char):\n",
    "    if char == 'a':\n",
    "        return 0\n",
    "    elif char == 'b':\n",
    "        return 8\n",
    "    elif char == 'c':\n",
    "        return 16\n",
    "    elif char == 'd':\n",
    "        return 24\n",
    "    elif char == 'e':\n",
    "        return 32\n",
    "    elif char == 'f':\n",
    "        return 40\n",
    "    elif char == 'g':\n",
    "        return 48\n",
    "    elif char == 'h':\n",
    "        return 56\n",
    "    else:\n",
    "        raise Exception(f'ERROR: Unsupported rank character: {char}')\n",
    "    \n",
    "def file(char):\n",
    "    if int(char) > 0 and int(char) <= 8:\n",
    "        return (int(char) - 1)\n",
    "    else:\n",
    "        raise Exception(f'ERROR: Unsupported file character: {char}')\n",
    "\n",
    "def convert_pos_to_val(pos):\n",
    "    val = 0\n",
    "\n",
    "    val += rank(pos[0])\n",
    "    val += file(pos[1])\n",
    "    return val\n"
   ]
  },
  {
   "cell_type": "code",
   "execution_count": 10,
   "id": "6e305f34",
   "metadata": {},
   "outputs": [],
   "source": [
    "# Converting FEN data to serialized vector data\n",
    "X_list = []\n",
    "board_pos = np.arange(board_size)\n",
    "\n",
    "for i in range(data_size):\n",
    "    board_data = convert_board_to_str(fen_data[i])\n",
    "    board_pos = convert_str_to_vector(board_data)\n",
    "    X_list.append(board_pos)\n",
    "\n",
    "X = np.array(X_list)\n",
    "X.shape\n",
    "\n",
    "# Converting move list to two label vectors for each model\n",
    "labels = []\n",
    "\n",
    "for i in range(data_size):\n",
    "    val = convert_pos_to_val(move_list[i][:2])\n",
    "    labels.append(val)\n",
    "\n",
    "y_move_from = np.array(labels)\n",
    "\n",
    "labels = []\n",
    "\n",
    "for i in range(data_size):\n",
    "    val = convert_pos_to_val(move_list[i][2:4])\n",
    "    labels.append(val)\n",
    "\n",
    "y_move_to = np.array(labels)"
   ]
  },
  {
   "cell_type": "markdown",
   "id": "bf635244",
   "metadata": {},
   "source": [
    "### Part 2 : Base Models"
   ]
  },
  {
   "cell_type": "code",
   "execution_count": 11,
   "id": "d2a24140",
   "metadata": {},
   "outputs": [
    {
     "data": {
      "text/plain": [
       "(30000, 768)"
      ]
     },
     "execution_count": 11,
     "metadata": {},
     "output_type": "execute_result"
    }
   ],
   "source": [
    "#Reshaping Data for Base Models\n",
    "X_reshaped = X.reshape(X.shape[0], -1)\n",
    "X_reshaped.shape"
   ]
  },
  {
   "cell_type": "markdown",
   "id": "4651b1a0",
   "metadata": {},
   "source": [
    "#### Random Forest"
   ]
  },
  {
   "cell_type": "code",
   "execution_count": 12,
   "id": "3cbd4295",
   "metadata": {},
   "outputs": [],
   "source": [
    "#Running a stratified k-fold cross validation on random forest classifier model\n",
    "classifier = RandomForestClassifier()\n",
    "cv = StratifiedKFold(n_splits=5, random_state=42, shuffle=True)\n",
    "accuracy = cross_val_score(classifier, X_reshaped, y_move_from, cv=cv, scoring='accuracy') "
   ]
  },
  {
   "cell_type": "code",
   "execution_count": 13,
   "id": "3967464c",
   "metadata": {},
   "outputs": [
    {
     "name": "stdout",
     "output_type": "stream",
     "text": [
      "Mean score: 0.15793333333333334\n",
      "Standard deviation of scores: 0.0034522134606333036\n"
     ]
    }
   ],
   "source": [
    "print(\"Mean score:\", np.mean(accuracy))\n",
    "print(\"Standard deviation of scores:\", np.std(accuracy))"
   ]
  },
  {
   "cell_type": "markdown",
   "id": "fdc6895b",
   "metadata": {},
   "source": [
    "#### SVM"
   ]
  },
  {
   "cell_type": "code",
   "execution_count": 43,
   "id": "e9aba8f0",
   "metadata": {},
   "outputs": [],
   "source": [
    "#Benchmarking for optimal c values and optimal kernel for soft margin SVM.\n",
    "c_values = [0.01, 0.1, 1, 10, 100, 1000]\n",
    "kernels = [\"poly\", \"rbf\", \"sigmoid\"]\n",
    "accuracies = []\n",
    "\n",
    "for ker in kernels : \n",
    "    for c_value in c_values :\n",
    "        classifier_set = svm.SVC(kernel = ker, C = c_value)\n",
    "        accuracy_svm = cross_val_score(classifier_set, X_reshaped, y_move_from, cv=cv, scoring='accuracy') \n",
    "        accuracies.append(accuracy_svm)"
   ]
  },
  {
   "cell_type": "code",
   "execution_count": 73,
   "id": "e2341518",
   "metadata": {},
   "outputs": [],
   "source": [
    "accuracies_mean = []\n",
    "for i in range(0, 18) :\n",
    "    accuracies_mean.append(np.mean(accuracies[i]))"
   ]
  },
  {
   "cell_type": "code",
   "execution_count": 76,
   "id": "012aa5db",
   "metadata": {},
   "outputs": [
    {
     "data": {
      "image/png": "[encoded data removed]",
      "text/plain": [
       "<Figure size 400x400 with 1 Axes>"
      ]
     },
     "metadata": {},
     "output_type": "display_data"
    }
   ],
   "source": [
    "#Plotting mean accuracies of SVM cross validations.\n",
    "accuracies_poly = accuracies_mean[:6]\n",
    "accuracies_rbf = accuracies_mean[6:12]\n",
    "accuracies_sigmoid = accuracies_mean[12:]\n",
    "\n",
    "plt.figure(figsize=(4,4))\n",
    "plt.semilogx(c_values, accuracies_poly, alpha=0.5, color='red', label = 'Polynomial Kernel')\n",
    "plt.semilogx(c_values, accuracies_rbf, alpha=0.5, color='blue', label = 'Gaussian Kernel')\n",
    "plt.semilogx(c_values, accuracies_sigmoid, alpha=0.5, color = 'green', label = 'Sigmoid Kernel')\n",
    "plt.ylim((0.0, 0.2))\n",
    "plt.xlabel('soft margin c value (log scale)')\n",
    "plt.ylabel('accuracy')\n",
    "plt.legend()\n",
    "plt.grid(True)\n",
    "plt.show()"
   ]
  },
  {
   "cell_type": "code",
   "execution_count": 77,
   "id": "036a6ad3",
   "metadata": {},
   "outputs": [],
   "source": [
    "X_train, X_test, y_train, y_test = train_test_split(\n",
    "    X_reshaped, y_move_from, test_size=0.3, random_state=63)"
   ]
  },
  {
   "cell_type": "code",
   "execution_count": null,
   "id": "47799207",
   "metadata": {},
   "outputs": [],
   "source": [
    "#Natural SVM model with optimal accuracy.\n",
    "classifier_optimal = svm.SVC(kernel = 'rbf', C = 10)\n",
    "\n",
    "classifier_optimal.fit(X_train, y_train)\n",
    "\n",
    "optimal_svm_accuracy = classifier_optimal.score(X_test, y_test)"
   ]
  },
  {
   "cell_type": "code",
   "execution_count": 80,
   "id": "9d16fa9e",
   "metadata": {},
   "outputs": [
    {
     "name": "stdout",
     "output_type": "stream",
     "text": [
      "Mean score:  0.13766666666666666\n"
     ]
    }
   ],
   "source": [
    "print(\"Mean score: \", optimal_svm_accuracy)"
   ]
  }
 ],
 "metadata": {
  "kernelspec": {
   "display_name": "Python 3 (ipykernel)",
   "language": "python",
   "name": "python3"
  },
  "language_info": {
   "codemirror_mode": {
    "name": "ipython",
    "version": 3
   },
   "file_extension": ".py",
   "mimetype": "text/x-python",
   "name": "python",
   "nbconvert_exporter": "python",
   "pygments_lexer": "ipython3",
   "version": "3.11.4"
  }
 },
 "nbformat": 4,
 "nbformat_minor": 5
}
