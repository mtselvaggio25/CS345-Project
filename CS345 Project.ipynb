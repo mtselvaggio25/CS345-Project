{
 "cells": [
  {
   "cell_type": "markdown",
   "id": "04ae3927",
   "metadata": {},
   "source": [
    "# CS 345 Project\n",
    "#### _Ben Spencer and Matteo Selvaggio_"
   ]
  }
 ],
 "metadata": {
  "kernelspec": {
   "display_name": "Python 3 (ipykernel)",
   "language": "python",
   "name": "python3"
  },
  "language_info": {
   "codemirror_mode": {
    "name": "ipython",
    "version": 3
   },
   "file_extension": ".py",
   "mimetype": "text/x-python",
   "name": "python",
   "nbconvert_exporter": "python",
   "pygments_lexer": "ipython3",
   "version": "3.11.4"
  }
 },
 "nbformat": 4,
 "nbformat_minor": 5
}
