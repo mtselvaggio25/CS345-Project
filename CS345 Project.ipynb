{
 "cells": [
  {
   "cell_type": "markdown",
   "id": "04ae3927",
   "metadata": {},
   "source": [
    "# CS 345 Project\n",
    "#### _Ben Spencer and Matteo Selvaggio_"
   ]
  },
  {
   "cell_type": "markdown",
   "id": "96cf2f13",
   "metadata": {},
   "source": [
    "#### **Part 0: Importing Data and Libraries**"
   ]
  },
  {
   "cell_type": "code",
   "execution_count": null,
   "id": "be08e492",
   "metadata": {},
   "outputs": [],
   "source": [
    "# installing zstandard package to unpack .zst compressed files\n",
    "# %pip install zstandard\n",
    "import zstandard as zstd\n",
    "\n",
    "# installing chess package which contains useful methods for processing chess boards.\n",
    "# %pip install chess\n",
    "import chess\n",
    "\n",
    "# importing numpy and matplotlib\n",
    "import numpy as np\n",
    "import matplotlib.pyplot as plt\n",
    "\n",
    "# importing sklearn methods\n",
    "from sklearn.model_selection import train_test_split\n",
    "from sklearn.ensemble import RandomForestClassifier\n",
    "\n",
    "# importing keras with GPU\n",
    "# If using Anaconda, use the following commands in a local conda terminal:\n",
    "# %pip install --upgrade pip\n",
    "# %conda create -n tf tensorflow\n",
    "# %conda activate tf\n",
    "# %pip install tensorflow[and-cuda]\n",
    "import tensorflow as tf"
   ]
  }
 ],
 "metadata": {
  "kernelspec": {
   "display_name": "Python 3 (ipykernel)",
   "language": "python",
   "name": "python3"
  },
  "language_info": {
   "codemirror_mode": {
    "name": "ipython",
    "version": 3
   },
   "file_extension": ".py",
   "mimetype": "text/x-python",
   "name": "python",
   "nbconvert_exporter": "python",
   "pygments_lexer": "ipython3",
   "version": "3.11.4"
  }
 },
 "nbformat": 4,
 "nbformat_minor": 5
}
