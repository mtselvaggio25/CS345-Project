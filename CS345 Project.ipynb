{
 "cells": [
  {
   "cell_type": "markdown",
   "id": "04ae3927",
   "metadata": {},
   "source": [
    "# CS 345 Project\n",
    "#### _Ben Spencer and Matteo Selvaggio_"
   ]
  },
  {
   "cell_type": "markdown",
   "id": "96cf2f13",
   "metadata": {},
   "source": [
    "#### **Part 0: Importing Data and Libraries**"
   ]
  },
  {
   "cell_type": "code",
   "execution_count": 4,
   "id": "be08e492",
   "metadata": {},
   "outputs": [
    {
     "name": "stdout",
     "output_type": "stream",
     "text": [
      "Shape of the features array (X): (10000,)\n",
      "Head of the features array: ['2r3k1/5ppp/3Qb3/p3p3/4P3/5B2/PrP2PPP/2qRK2R b K - 2 24'\n",
      " '4r1k1/2p1qpbp/1p4p1/p3p2n/4b3/1PP1PN1P/1P2BPPB/2QR2K1 w - - 2 21'\n",
      " '8/8/3k4/2p2p1p/p1P4P/P3Pp2/4K3/8 w - - 0 47'\n",
      " 'r1b1r1k1/6pp/p1p5/3p4/2qB4/2P2QP1/P1P4P/5RK1 b - - 1 19'\n",
      " '8/3P2k1/5bp1/4N3/1p1K4/1P3R2/4r3/8 b - - 0 42']\n",
      "\n",
      "Shape of the labels array (Y): (10000,)\n",
      "Head of the labels array: ['c1c2 d6d8 c8d8 d1d8' 'e2d3 e4d3 d1d3 e5e4 d3d2 e4f3'\n",
      " 'e2f3 d6e5 f3f2 e5e4 f2e2 f5f4 e3f4 e4f4' 'c8h3 f3f7 g8h8 f7g7'\n",
      " 'e2e5 f3f6 g7f6 d7d8q' 'f6f8 e4g2' 'd8d5 f5e6 d5e6 b3e6' 'e4d5 e1e8'\n",
      " 'd6c5 g7c7 c5d5 c7c1' 'd1d3 e2e1 b1e1 e6e1']\n"
     ]
    }
   ],
   "source": [
    "# installing zstandard package to unpack .zst compressed files\n",
    "# %pip install zstandard\n",
    "import zstandard as zstd\n",
    "\n",
    "# installing chess package which contains useful methods for processing chess boards.\n",
    "# %pip install chess\n",
    "import chess\n",
    "\n",
    "# importing numpy and matplotlib\n",
    "import numpy as np\n",
    "import matplotlib.pyplot as plt\n",
    "\n",
    "# importing sklearn methods\n",
    "from sklearn.model_selection import train_test_split\n",
    "from sklearn.ensemble import RandomForestClassifier\n",
    "\n",
    "# importing keras with GPU\n",
    "# If using Anaconda, use the following commands in a local conda terminal:\n",
    "# %pip install --upgrade pip\n",
    "# %conda create -n tf tensorflow\n",
    "# %conda activate tf\n",
    "# %pip install tensorflow[and-cuda]\n",
    "import tensorflow as tf\n",
    "\n",
    "# import data\n",
    "# the usecols parameter extracts the PuzzleID, FEN, and Game Moves columns only\n",
    "# the skiprows parameter only receives the last 10,000 entries\n",
    "fen_data = np.loadtxt(\"lichess_db_puzzle.csv\", delimiter=',', dtype=str, skiprows=3822157, usecols=(1))\n",
    "move_list = np.loadtxt(\"lichess_db_puzzle.csv\", delimiter=',', dtype=str, skiprows=3822157, usecols=(2))\n",
    "print(f'Shape of the features array (X): {fen_data.shape}')\n",
    "print(f'Head of the features array: {fen_data[:5]}\\n')\n",
    "print(f'Shape of the labels array (Y): {move_list.shape}')\n",
    "print(f'Head of the labels array: {move_list[:10]}')\n"
   ]
  },
  {
   "cell_type": "markdown",
   "id": "10da4966",
   "metadata": {},
   "source": [
    "#### **Part 1: Organizing the Data**"
   ]
  },
  {
   "cell_type": "code",
   "execution_count": 24,
   "id": "e5414eed",
   "metadata": {},
   "outputs": [
    {
     "data": {
      "text/plain": [
       "(10000, 64, 12)"
      ]
     },
     "execution_count": 24,
     "metadata": {},
     "output_type": "execute_result"
    }
   ],
   "source": [
    "'''\n",
    "Contains some example code that will be helpful for organizing data.\n",
    "\n",
    "board_matrix = []\n",
    "\n",
    "for i in range(10000):\n",
    "    board_matrix.append(str(chess.Board(fen_data[i,1])))\n",
    "\n",
    "label = []\n",
    "\n",
    "for i in range(10000):\n",
    "    label.append(move_list[i][2:4])\n",
    "\n",
    "print(label[:5])\n",
    "'''\n",
    "data_size = len(move_list)\n",
    "board_size = 64\n",
    "\n",
    "def convert_board_to_str(fen):\n",
    "    rtn = str(chess.Board(fen))\n",
    "    return rtn\n",
    "\n",
    "'''\n",
    "The following function converts characters in the board position to vectors of size 12 to indicate what kind of\n",
    "piece is in that space. Here is the template:\n",
    "\n",
    "No piece:               [0, 0, 0, 0, 0, 0, 0, 0, 0, 0, 0, 0]\n",
    "\n",
    "Black Pawn (p):         [1, 0, 0, 0, 0, 0, 0, 0, 0, 0, 0, 0]\n",
    "Black Knight (n):       [0, 1, 0, 0, 0, 0, 0, 0, 0, 0, 0, 0]\n",
    "Black Bishop (b):       [0, 0, 1, 0, 0, 0, 0, 0, 0, 0, 0, 0]\n",
    "Black Rook (r):         [0, 0, 0, 1, 0, 0, 0, 0, 0, 0, 0, 0]\n",
    "Black Queen (q):        [0, 0, 0, 0, 1, 0, 0, 0, 0, 0, 0, 0]\n",
    "Black King (k):         [0, 0, 0, 0, 0, 1, 0, 0, 0, 0, 0, 0]\n",
    "\n",
    "White Pawn (P):         [0, 0, 0, 0, 0, 0, 1, 0, 0, 0, 0, 0]\n",
    "White Knight (N):       [0, 0, 0, 0, 0, 0, 0, 1, 0, 0, 0, 0]\n",
    "White Bishop (B):       [0, 0, 0, 0, 0, 0, 0, 0, 1, 0, 0, 0]\n",
    "White Rook (R):         [0, 0, 0, 0, 0, 0, 0, 0, 0, 1, 0, 0]\n",
    "White Queen (Q):        [0, 0, 0, 0, 0, 0, 0, 0, 0, 0, 1, 0]\n",
    "White King (K):         [0, 0, 0, 0, 0, 0, 0, 0, 0, 0, 0, 1]\n",
    "'''\n",
    "def convert_str_to_vector(board_data):\n",
    "    rtn = []\n",
    "\n",
    "    for i in range(len(board_data)):\n",
    "        x = board_data[i]\n",
    "\n",
    "        if x == ' ' or x == '\\n':\n",
    "            continue\n",
    "        elif x == '.':\n",
    "            rtn.append([0, 0, 0, 0, 0, 0, 0, 0, 0, 0, 0, 0])\n",
    "        elif x == 'p':\n",
    "            rtn.append([1, 0, 0, 0, 0, 0, 0, 0, 0, 0, 0, 0])\n",
    "        elif x == 'n':\n",
    "            rtn.append([0, 1, 0, 0, 0, 0, 0, 0, 0, 0, 0, 0])\n",
    "        elif x == 'b':\n",
    "            rtn.append([0, 0, 1, 0, 0, 0, 0, 0, 0, 0, 0, 0])\n",
    "        elif x == 'r':\n",
    "            rtn.append([0, 0, 0, 1, 0, 0, 0, 0, 0, 0, 0, 0])\n",
    "        elif x == 'q':\n",
    "            rtn.append([0, 0, 0, 0, 1, 0, 0, 0, 0, 0, 0, 0])\n",
    "        elif x == 'k':\n",
    "            rtn.append([0, 0, 0, 0, 0, 1, 0, 0, 0, 0, 0, 0])\n",
    "        elif x == 'P':\n",
    "            rtn.append([0, 0, 0, 0, 0, 0, 1, 0, 0, 0, 0, 0])\n",
    "        elif x == 'N':\n",
    "            rtn.append([0, 0, 0, 0, 0, 0, 0, 1, 0, 0, 0, 0])\n",
    "        elif x == 'B':\n",
    "            rtn.append([0, 0, 0, 0, 0, 0, 0, 0, 1, 0, 0, 0])\n",
    "        elif x == 'R':\n",
    "            rtn.append([0, 0, 0, 0, 0, 0, 0, 0, 0, 1, 0, 0])\n",
    "        elif x == 'Q':\n",
    "            rtn.append([0, 0, 0, 0, 0, 0, 0, 0, 0, 0, 1, 0])\n",
    "        elif x == 'K':\n",
    "            rtn.append([0, 0, 0, 0, 0, 0, 0, 0, 0, 0, 0, 1])\n",
    "        else:\n",
    "            # For debugging\n",
    "            print(f'ERROR: Board Contains Unnaccepted Character: {board_data[i]}')\n",
    "            break\n",
    "\n",
    "    return rtn\n",
    "\n",
    "# Converting FEN data to serialized vector data\n",
    "X_list = []\n",
    "board_pos = np.arange(board_size)\n",
    "\n",
    "for i in range(data_size):\n",
    "    board_data = convert_board_to_str(fen_data[i])\n",
    "    board_pos = convert_str_to_vector(board_data)\n",
    "    X_list.append(board_pos)\n",
    "\n",
    "X = np.array(X_list)\n",
    "X.shape\n"
   ]
  }
 ],
 "metadata": {
  "kernelspec": {
   "display_name": "Python 3 (ipykernel)",
   "language": "python",
   "name": "python3"
  },
  "language_info": {
   "codemirror_mode": {
    "name": "ipython",
    "version": 3
   },
   "file_extension": ".py",
   "mimetype": "text/x-python",
   "name": "python",
   "nbconvert_exporter": "python",
   "pygments_lexer": "ipython3",
   "version": "3.11.4"
  }
 },
 "nbformat": 4,
 "nbformat_minor": 5
}
